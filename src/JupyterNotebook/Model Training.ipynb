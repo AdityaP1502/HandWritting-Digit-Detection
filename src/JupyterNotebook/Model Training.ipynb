{
 "cells": [
  {
   "cell_type": "code",
   "execution_count": null,
   "id": "548f55f8",
   "metadata": {},
   "outputs": [],
   "source": [
    "import numpy as np\n",
    "import multiprocessing as mp\n",
    "from multiprocessing import Pool, cpu_count\n",
    "from sklearn.neighbors import KNeighborsClassifier\n",
    "from sklearn.datasets import fetch_openml\n",
    "import os.path\n",
    "import cv2\n",
    "import matplotlib.pyplot as plt\n",
    "from ctypes import *\n",
    "import sys\n",
    "import threading"
   ]
  },
  {
   "cell_type": "code",
   "execution_count": null,
   "id": "dcc7fcc9",
   "metadata": {},
   "outputs": [],
   "source": [
    "def sort_by_target(mnist):\n",
    "    reorder_train = np.array(sorted([(target, i) for i, target in enumerate(mnist.target[:60000])]))[:, 1]\n",
    "    reorder_test = np.array(sorted([(target, i) for i, target in enumerate(mnist.target[60000:])]))[:, 1]\n",
    "    mnist.data[:60000] = mnist.data[reorder_train]\n",
    "    mnist.target[:60000] = mnist.target[reorder_train]\n",
    "    mnist.data[60000:] = mnist.data[reorder_test + 60000]\n",
    "    mnist.target[60000:] = mnist.target[reorder_test + 60000]\n",
    "    \n",
    "def saveImages(mnist):\n",
    "  for i in range(len(mnist)):\n",
    "    digit = mnist[i].reshape(28, 28)\n",
    "    img = PIL.Image.fromarray(digit, mode=\"L\")\n",
    "    img.save(\"mnist{}.png\".format(i + 1), mode = \"L\")\n",
    "    from google.colab import files\n",
    "    files.download(\"mnist/images/mnist{}.png\".format(i + 1)) \n",
    "    \n",
    "def saveLabels(labels):\n",
    "    f = open(\"mnist/labels/labels.txt\", \"r\")\n",
    "    for i in range(len(labels)):\n",
    "        f.write(\"{},\".format(labels[i]))\n",
    "    f.close()\n",
    "\n",
    "        "
   ]
  },
  {
   "cell_type": "code",
   "execution_count": null,
   "id": "60ecc060",
   "metadata": {},
   "outputs": [],
   "source": [
    "SO_DIRPATH = \"../libs/\""
   ]
  },
  {
   "cell_type": "code",
   "execution_count": null,
   "id": "cfd6919c",
   "metadata": {},
   "outputs": [],
   "source": [
    "# Loop Counter\n",
    "SO_FILE_COUNTER = SO_DIRPATH + 'libcounter.so'\n",
    "counter_c = CDLL(SO_FILE_COUNTER)\n",
    "counter_c.python_loop_count.argtypes = [np.ctypeslib.ndpointer(dtype=c_ubyte, flags=\"C_CONTIGUOUS\"), c_int, c_int]\n",
    "counter_c.python_loop_count.restypes = c_int"
   ]
  },
  {
   "cell_type": "code",
   "execution_count": null,
   "id": "d7093a00",
   "metadata": {},
   "outputs": [],
   "source": [
    "def loop_count_c(img, nx, ny):\n",
    "    shape = np.shape(img)\n",
    "    if not isinstance(img, np.ndarray): \n",
    "        raise TypeError(\"Image must be a ndarray, get {}\".format(type(img).__name__))\n",
    "    assert (len(shape) == 1), \"Image must be serialized\"\n",
    "    \n",
    "    try:\n",
    "        cnt = counter_c.python_loop_count(img, nx, ny)\n",
    "    except Exception as e:\n",
    "        print(\"Exception occured: {}\".format(e))\n",
    "        print(\"If error caused by undefined counter. Make sure to load counter_c library first before running this function\\n\")\n",
    "        print(\"Make sure to defined the restype and argtype of python_loop_count\")\n",
    "        exit(-1)\n",
    "        \n",
    "    return cnt"
   ]
  },
  {
   "cell_type": "code",
   "execution_count": null,
   "id": "5cdd7b36",
   "metadata": {},
   "outputs": [],
   "source": [
    "def readImages(path):\n",
    "    global n_finished\n",
    "    a = cv2.imread(path, 0)\n",
    "    with n_finished.get_lock():\n",
    "        n_finished.value += 1;\n",
    "    return a\n",
    "\n",
    "def readTrain(X):\n",
    "    IMG_TRAIN = \"../../mnist/images/train_images\"\n",
    "    LABELS_TRAIN = \"../../mnist/labels/train_labels/train.txt\"\n",
    "    # read labels\n",
    "    with open(LABELS_TRAIN, \"r\") as f:\n",
    "        labels = f.read()\n",
    "    labels = list(map(lambda x: int(x), labels.split(\",\")))\n",
    "    assert len(labels) == 60000, \"Corrupted labels. Expected {} got {}\".format(60000, len(labels))\n",
    "    data = [os.path.join(IMG_TRAIN, \"number{}.png\".format(i + 1)) for i in range(60000)]\n",
    "    with Pool(cpu_count()) as pool:\n",
    "        train_img = pool.map(readImages, data)\n",
    "    X[0] = train_img\n",
    "    X[1] = np.array(labels).reshape(-1, 1)"
   ]
  },
  {
   "cell_type": "code",
   "execution_count": null,
   "id": "b5df58f3",
   "metadata": {
    "scrolled": false
   },
   "outputs": [],
   "source": [
    "train = readTrain()"
   ]
  },
  {
   "cell_type": "code",
   "execution_count": null,
   "id": "2a7d2f81",
   "metadata": {},
   "outputs": [],
   "source": [
    "n_finished = mp.Value('i', 0)\n",
    "X = [None, None]\n",
    "t = threading.Thread(target = readTrain, args=(X, ))\n",
    "t.start()\n",
    "while t.is_alive():\n",
    "    sys.stdout.write('\\r' + \"n_finished={}\".format(n_finished.value))\n",
    "    sys.stdout.flush()"
   ]
  },
  {
   "cell_type": "code",
   "execution_count": null,
   "id": "2338e55e",
   "metadata": {},
   "outputs": [],
   "source": [
    "train_images = X[0]\n",
    "labels = X[1]"
   ]
  },
  {
   "cell_type": "code",
   "execution_count": null,
   "id": "fbe2eb3a",
   "metadata": {},
   "outputs": [],
   "source": [
    "plt.imshow(train_images[5370], cmap='gray')"
   ]
  },
  {
   "cell_type": "code",
   "execution_count": null,
   "id": "808c4c53",
   "metadata": {},
   "outputs": [],
   "source": [
    "def loop(some_digit):\n",
    "    global n_finished\n",
    "    shape = some_digit.reshape(1, -1)[0]\n",
    "    cnt = loop_count_c(shape, 28, 28) \n",
    "    with n_finished.get_lock():\n",
    "        n_finished.value += 1;\n",
    "    print(cnt)"
   ]
  },
  {
   "cell_type": "code",
   "execution_count": null,
   "id": "064ff169",
   "metadata": {},
   "outputs": [],
   "source": [
    "def process(process_fnc, data, return_value):\n",
    "    with Pool(cpu_count()) as pool:\n",
    "        pool.map(process_fnc, data)"
   ]
  },
  {
   "cell_type": "code",
   "execution_count": null,
   "id": "2dc4a841",
   "metadata": {},
   "outputs": [],
   "source": [
    "n_finished = mp.Value('i', 0)\n",
    "X = [] # count \n",
    "t = threading.Thread(target = process, args=(loop, train_images, X, ))\n",
    "t.start()\n",
    "while t.is_alive():\n",
    "    sys.stdout.write('\\r' + \"n_finished={}\".format(n_finished.value))\n",
    "    sys.stdout.flush()"
   ]
  },
  {
   "cell_type": "code",
   "execution_count": null,
   "id": "463b63b4",
   "metadata": {},
   "outputs": [],
   "source": [
    "X_train, y_train = X, train[1]"
   ]
  },
  {
   "cell_type": "code",
   "execution_count": null,
   "id": "bf0ea3e5",
   "metadata": {},
   "outputs": [],
   "source": [
    "# check loop count\n",
    "for i in range(60000):\n",
    "    print(X_train[i][784], y_train[i][0])"
   ]
  },
  {
   "cell_type": "code",
   "execution_count": null,
   "id": "afd6e98a",
   "metadata": {},
   "outputs": [],
   "source": []
  }
 ],
 "metadata": {
  "kernelspec": {
   "display_name": "Python 3 (ipykernel)",
   "language": "python",
   "name": "python3"
  },
  "language_info": {
   "codemirror_mode": {
    "name": "ipython",
    "version": 3
   },
   "file_extension": ".py",
   "mimetype": "text/x-python",
   "name": "python",
   "nbconvert_exporter": "python",
   "pygments_lexer": "ipython3",
   "version": "3.9.13"
  }
 },
 "nbformat": 4,
 "nbformat_minor": 5
}
