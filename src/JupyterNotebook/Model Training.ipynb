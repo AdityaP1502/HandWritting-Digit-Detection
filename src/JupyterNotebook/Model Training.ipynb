{
 "cells": [
  {
   "cell_type": "code",
   "execution_count": 1,
   "id": "548f55f8",
   "metadata": {},
   "outputs": [],
   "source": [
    "import numpy as np\n",
    "import multiprocessing as mp\n",
    "from multiprocessing import Pool, cpu_count, Value\n",
    "from sklearn.neighbors import KNeighborsClassifier\n",
    "from sklearn.model_selection import cross_val_score, GridSearchCV\n",
    "from sklearn.preprocessing import StandardScaler\n",
    "from sklearn.metrics import confusion_matrix\n",
    "from sklearn.decomposition import PCA, KernelPCA\n",
    "from sklearn.pipeline import Pipeline\n",
    "from sklearn.datasets import fetch_openml\n",
    "import os.path\n",
    "import cv2\n",
    "import matplotlib.pyplot as plt\n",
    "from ctypes import *\n",
    "import sys\n",
    "import threading"
   ]
  },
  {
   "cell_type": "code",
   "execution_count": 2,
   "id": "60ecc060",
   "metadata": {},
   "outputs": [],
   "source": [
    "SO_DIRPATH = \"../libs/\"\n",
    "TRAIN_IMAGES_DIR = \"../../mnist/images/train_images\" \n",
    "TEST_IMAGES_DIR = \"../../mnist/images/test_images\"\n",
    "TRAIN_LABELS_DIR = \"../../mnist/labels/train_labels\"\n",
    "TEST_LABELS_DIR =  \"../../mnist/labels/test_labels\"\n",
    "IMAGE_NAME = \"number{}.png\"\n",
    "LABELS_NAME = \"labels.txt\"\n",
    "LOOP_LABELS_NAME = \"loops.txt\"\n",
    "N_TRAIN = 60000"
   ]
  },
  {
   "cell_type": "code",
   "execution_count": 3,
   "id": "76112c8b",
   "metadata": {},
   "outputs": [],
   "source": [
    "def readImages(data):\n",
    "    global n_finished\n",
    "    path, loop_label = data\n",
    "    a = cv2.imread(path, 0)\n",
    "    a = a.reshape(-1)\n",
    "    with n_finished.get_lock():\n",
    "        n_finished.value += 1\n",
    "    return np.append(a, loop_label)"
   ]
  },
  {
   "cell_type": "code",
   "execution_count": 4,
   "id": "5cdd7b36",
   "metadata": {},
   "outputs": [],
   "source": [
    "def readLabels(label_dir, label_name):\n",
    "    with open(os.path.join(label_dir, label_name), \"r\") as f:\n",
    "        content = f.read()\n",
    "    \n",
    "    label = content.split(\",\")\n",
    "    label = map(lambda x: int(x), label)\n",
    "    return np.array(list(label))\n",
    "\n",
    "def run(images, data):\n",
    "    images.append(None)\n",
    "    with Pool(cpu_count()) as pool:\n",
    "        images[0] = pool.map(readImages, data)\n",
    "        \n",
    "def read(image_dir, label_dir):\n",
    "    global n_finished\n",
    "    number_label = readLabels(label_dir, LABELS_NAME)[:N_TRAIN]\n",
    "    loop_label = readLabels(label_dir, LOOP_LABELS_NAME)[:N_TRAIN]\n",
    "    images = []\n",
    "    data = [(os.path.join(image_dir, IMAGE_NAME.format(i + 1)), loop_label[i]) for i in range(N_TRAIN)]\n",
    "    t = threading.Thread(target = run, args=(images, data,  ))\n",
    "    t.start()\n",
    "    while t.is_alive():\n",
    "        sys.stdout.write('\\r' + \"n_finished={}\".format(n_finished.value))\n",
    "        sys.stdout.flush()\n",
    "   \n",
    "    \n",
    "    return images, number_label.reshape(-1, 1)\n",
    "     "
   ]
  },
  {
   "cell_type": "code",
   "execution_count": null,
   "id": "b5df58f3",
   "metadata": {
    "scrolled": false
   },
   "outputs": [
    {
     "name": "stdout",
     "output_type": "stream",
     "text": [
      "n_finished=0"
     ]
    }
   ],
   "source": [
    "if __name__ == \"__main__\":\n",
    "    n_finished = Value('i', 0)\n",
    "    X_train, y_train = read(TRAIN_IMAGES_DIR, TRAIN_LABELS_DIR)"
   ]
  },
  {
   "cell_type": "code",
   "execution_count": null,
   "id": "30896e0d",
   "metadata": {},
   "outputs": [],
   "source": [
    "X_train = X_train[0]"
   ]
  },
  {
   "cell_type": "code",
   "execution_count": null,
   "id": "f25aceb1",
   "metadata": {},
   "outputs": [],
   "source": [
    "np.shape(y_train)"
   ]
  },
  {
   "cell_type": "code",
   "execution_count": null,
   "id": "50a8060c",
   "metadata": {},
   "outputs": [],
   "source": [
    "train_data = list(zip(X_train, y_train))\n",
    "np.random.shuffle(train_data)\n",
    "X_train, y_train = list(zip(*train_data))"
   ]
  },
  {
   "cell_type": "code",
   "execution_count": null,
   "id": "b8507781",
   "metadata": {},
   "outputs": [],
   "source": [
    "X_train = np.array(X_train)\n",
    "y_train = np.array(y_train).reshape(-1, )"
   ]
  },
  {
   "cell_type": "code",
   "execution_count": null,
   "id": "43a149f1",
   "metadata": {},
   "outputs": [],
   "source": [
    "np.shape(y_train)"
   ]
  },
  {
   "cell_type": "markdown",
   "id": "a69db27c",
   "metadata": {},
   "source": [
    "# Compression"
   ]
  },
  {
   "cell_type": "markdown",
   "id": "c6a88168",
   "metadata": {},
   "source": [
    "## 1. Linear PCA"
   ]
  },
  {
   "cell_type": "code",
   "execution_count": null,
   "id": "651e5dfd",
   "metadata": {},
   "outputs": [],
   "source": [
    "pca = PCA(n_components = 154)\n",
    "X_train_reduced = pca.fit_transform(X_train)"
   ]
  },
  {
   "cell_type": "markdown",
   "id": "088b90fe",
   "metadata": {},
   "source": [
    "## 2. Kernel PCA"
   ]
  },
  {
   "cell_type": "markdown",
   "id": "9d426828",
   "metadata": {},
   "source": [
    "## 3. LLE"
   ]
  },
  {
   "cell_type": "markdown",
   "id": "3abe15be",
   "metadata": {},
   "source": [
    "# Model Training"
   ]
  },
  {
   "cell_type": "markdown",
   "id": "7090f81c",
   "metadata": {},
   "source": [
    "## 1. KNN Classifier"
   ]
  },
  {
   "cell_type": "code",
   "execution_count": null,
   "id": "dae130ea",
   "metadata": {},
   "outputs": [],
   "source": [
    "knn_clf = KNeighborsClassifier(n_neighbors=4, weights=\"distance\", n_jobs=-1)\n",
    "knn_clf.fit(X_train, y_train)"
   ]
  },
  {
   "cell_type": "markdown",
   "id": "33f17490",
   "metadata": {},
   "source": [
    "## 2. XGB"
   ]
  },
  {
   "cell_type": "markdown",
   "id": "2d8941a7",
   "metadata": {},
   "source": [
    "# Evaluation"
   ]
  },
  {
   "cell_type": "code",
   "execution_count": null,
   "id": "2a3499f6",
   "metadata": {},
   "outputs": [],
   "source": [
    "cross_val_score(knn_clf, X_train, y_train, cv=3, scoring=\"accuracy\")"
   ]
  },
  {
   "cell_type": "code",
   "execution_count": null,
   "id": "2b1f652c",
   "metadata": {},
   "outputs": [],
   "source": [
    "y"
   ]
  }
 ],
 "metadata": {
  "kernelspec": {
   "display_name": "Python 3 (ipykernel)",
   "language": "python",
   "name": "python3"
  },
  "language_info": {
   "codemirror_mode": {
    "name": "ipython",
    "version": 3
   },
   "file_extension": ".py",
   "mimetype": "text/x-python",
   "name": "python",
   "nbconvert_exporter": "python",
   "pygments_lexer": "ipython3",
   "version": "3.10.2"
  }
 },
 "nbformat": 4,
 "nbformat_minor": 5
}
