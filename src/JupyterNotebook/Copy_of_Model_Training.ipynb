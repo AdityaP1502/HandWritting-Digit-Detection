{
 "cells": [
  {
   "cell_type": "code",
   "execution_count": 14,
   "id": "548f55f8",
   "metadata": {
    "id": "548f55f8"
   },
   "outputs": [],
   "source": [
    "import numpy as np\n",
    "import multiprocessing as mp\n",
    "from multiprocessing import Pool, cpu_count, Value\n",
    "from sklearn.neighbors import KNeighborsClassifier\n",
    "from sklearn.model_selection import cross_val_score, GridSearchCV, StratifiedKFold, cross_val_predict\n",
    "from sklearn.preprocessing import StandardScaler\n",
    "from sklearn.metrics import confusion_matrix\n",
    "from sklearn.decomposition import PCA, KernelPCA\n",
    "from sklearn.pipeline import Pipeline\n",
    "from sklearn.datasets import fetch_openml\n",
    "from sklearn.cluster import KMeans\n",
    "import os.path\n",
    "import cv2\n",
    "import matplotlib.pyplot as plt\n",
    "from ctypes import *\n",
    "import sys\n",
    "import threading\n",
    "from tensorflow.keras.preprocessing.image import ImageDataGenerator\n",
    "from read_image import read_images"
   ]
  },
  {
   "cell_type": "code",
   "execution_count": 15,
   "id": "5cdd7b36",
   "metadata": {
    "id": "5cdd7b36"
   },
   "outputs": [],
   "source": [
    "def readLabels(label_dir, label_name):\n",
    "    with open(os.path.join(label_dir, label_name), \"r\") as f:\n",
    "        content = f.read()\n",
    "    \n",
    "    label = content.split(\",\")\n",
    "    label = map(lambda x: int(x), label)\n",
    "    return np.array(list(label))\n",
    "\n",
    "def run(fnc, images, data):\n",
    "    images.append(None)\n",
    "    with Pool(cpu_count()) as pool:\n",
    "        images[0] = pool.map(fnc, data)\n",
    "        "
   ]
  },
  {
   "cell_type": "code",
   "execution_count": 16,
   "id": "xzRNRhBfWYmF",
   "metadata": {
    "id": "xzRNRhBfWYmF"
   },
   "outputs": [],
   "source": [
    "SO_DIRPATH = \"../libs/\"\n",
    "TRAIN_IMAGES_DIR = \"../../mnist/images/train_images\" \n",
    "TEST_IMAGES_DIR = \"../../mnist/images/test_images\"\n",
    "TRAIN_LABELS_DIR = \"../../mnist/labels/train_labels\"\n",
    "TEST_LABELS_DIR =  \"../../mnist/labels/test_labels\"\n",
    "IMAGE_NAME = \"number{}.png\"\n",
    "LABELS_NAME = \"labels.txt\"\n",
    "LOOP_LABELS_NAME = \"loops.txt\"\n",
    "N_TRAIN = 60000"
   ]
  },
  {
   "cell_type": "code",
   "execution_count": 64,
   "id": "a1108bd5",
   "metadata": {},
   "outputs": [],
   "source": [
    "number_label_train = readLabels(TRAIN_LABELS_DIR, LABELS_NAME)[:N_TRAIN]\n",
    "loop_label_train = readLabels(TRAIN_LABELS_DIR, LOOP_LABELS_NAME)[:N_TRAIN]\n",
    "number_label_test = readLabels(TEST_LABELS_DIR, LABELS_NAME)[:N_TRAIN]\n",
    "loop_label_train = readLabels(TEST_LABELS_DIR, LOOP_LABELS_NAME)[:N_TRAIN]"
   ]
  },
  {
   "cell_type": "code",
   "execution_count": 18,
   "id": "82ef8c93",
   "metadata": {},
   "outputs": [
    {
     "name": "stdout",
     "output_type": "stream",
     "text": [
      "n_finished=0"
     ]
    }
   ],
   "source": [
    "images = []\n",
    "data = [os.path.join(TRAIN_IMAGES_DIR, IMAGE_NAME.format(i + 1)) for i in range(N_TRAIN)]\n",
    "t = threading.Thread(target = run, args=(read_images, images, data,  ))\n",
    "t.start()\n",
    "while t.is_alive():\n",
    "        sys.stdout.write('\\r' + \"n_finished={}\".format(n_finished.value))\n",
    "        sys.stdout.flush()"
   ]
  },
  {
   "cell_type": "code",
   "execution_count": null,
   "id": "c0b10002",
   "metadata": {},
   "outputs": [],
   "source": [
    "X_train = np.array(images[0])\n",
    "y_train = np.array(number_label_train)"
   ]
  },
  {
   "cell_type": "code",
   "execution_count": null,
   "id": "bb42d953",
   "metadata": {},
   "outputs": [
    {
     "name": "stdout",
     "output_type": "stream",
     "text": [
      "n_finished=0"
     ]
    }
   ],
   "source": [
    "images = []\n",
    "data = [os.path.join(TEST_IMAGES_DIR, IMAGE_NAME.format(i + 1)) for i in range(N_TRAIN)]\n",
    "t = threading.Thread(target = run, args=(read_images, images, data,  ))\n",
    "t.start()\n",
    "while t.is_alive():\n",
    "        sys.stdout.write('\\r' + \"n_finished={}\".format(n_finished.value))\n",
    "        sys.stdout.flush()"
   ]
  },
  {
   "cell_type": "code",
   "execution_count": 33,
   "id": "7pr6GimjXeeW",
   "metadata": {
    "id": "7pr6GimjXeeW"
   },
   "outputs": [],
   "source": [
    "X_test = np.array(images[0])\n",
    "y_test = np.array(number_label_test)"
   ]
  },
  {
   "cell_type": "code",
   "execution_count": 31,
   "id": "0Kpz7srHLu91",
   "metadata": {
    "id": "0Kpz7srHLu91"
   },
   "outputs": [
    {
     "data": {
      "text/plain": [
       "array([5])"
      ]
     },
     "execution_count": 31,
     "metadata": {},
     "output_type": "execute_result"
    }
   ],
   "source": []
  },
  {
   "cell_type": "markdown",
   "id": "Lk40zxAQW8YR",
   "metadata": {
    "id": "Lk40zxAQW8YR"
   },
   "source": [
    "# Preprocess"
   ]
  },
  {
   "cell_type": "code",
   "execution_count": 35,
   "id": "kDXOgVn1OkVn",
   "metadata": {
    "id": "kDXOgVn1OkVn"
   },
   "outputs": [],
   "source": [
    "# append label into y\n",
    "new_y = []\n",
    "for i in range(N_TRAIN):\n",
    "    new_y.append((y_train[i], loop_label_train[i]))"
   ]
  },
  {
   "cell_type": "code",
   "execution_count": 36,
   "id": "2H2Ju2QxQwLC",
   "metadata": {
    "id": "2H2Ju2QxQwLC"
   },
   "outputs": [],
   "source": [
    "X_train = np.array(X_train).reshape(60000, 28, 28, 1)\n",
    "new_y = np.array(new_y)"
   ]
  },
  {
   "cell_type": "code",
   "execution_count": 38,
   "id": "KSKDjxXML7W-",
   "metadata": {
    "id": "KSKDjxXML7W-"
   },
   "outputs": [],
   "source": [
    "datagen = ImageDataGenerator(\n",
    "    rotation_range=90, \n",
    "    width_shift_range=1, \n",
    "    height_shift_range=1,\n",
    "    zoom_range=0.25\n",
    ")\n",
    "\n",
    "it = datagen.flow(X_train, new_y)"
   ]
  },
  {
   "cell_type": "code",
   "execution_count": 54,
   "id": "EVyVQN5kRUwv",
   "metadata": {
    "id": "EVyVQN5kRUwv"
   },
   "outputs": [],
   "source": [
    "X_augmented_with_loop = []\n",
    "y_augmented = []\n",
    "n_batch = 3 * N_TRAIN // 32\n",
    "batch = next(it, None)\n",
    "for i in range(n_batch):\n",
    "    imgs, labels = batch\n",
    "    for i in range(len(imgs)):\n",
    "      X_augmented_with_loop.append(np.append(imgs[i], labels[i][1]))\n",
    "      y_augmented.append(labels[i][0])\n",
    "    batch = next(it, None)"
   ]
  },
  {
   "cell_type": "code",
   "execution_count": 55,
   "id": "Sx7eGKutXkbH",
   "metadata": {
    "id": "Sx7eGKutXkbH"
   },
   "outputs": [],
   "source": [
    "X_train_final = X_augmented_with_loop\n",
    "y_train = y_augmented"
   ]
  },
  {
   "cell_type": "markdown",
   "id": "3abe15be",
   "metadata": {
    "id": "3abe15be"
   },
   "source": [
    "# Model Training"
   ]
  },
  {
   "cell_type": "markdown",
   "id": "7090f81c",
   "metadata": {
    "id": "7090f81c"
   },
   "source": [
    "## 1. KNN Classifier"
   ]
  },
  {
   "cell_type": "code",
   "execution_count": 56,
   "id": "dae130ea",
   "metadata": {
    "id": "dae130ea"
   },
   "outputs": [
    {
     "data": {
      "text/html": [
       "<style>#sk-container-id-2 {color: black;background-color: white;}#sk-container-id-2 pre{padding: 0;}#sk-container-id-2 div.sk-toggleable {background-color: white;}#sk-container-id-2 label.sk-toggleable__label {cursor: pointer;display: block;width: 100%;margin-bottom: 0;padding: 0.3em;box-sizing: border-box;text-align: center;}#sk-container-id-2 label.sk-toggleable__label-arrow:before {content: \"▸\";float: left;margin-right: 0.25em;color: #696969;}#sk-container-id-2 label.sk-toggleable__label-arrow:hover:before {color: black;}#sk-container-id-2 div.sk-estimator:hover label.sk-toggleable__label-arrow:before {color: black;}#sk-container-id-2 div.sk-toggleable__content {max-height: 0;max-width: 0;overflow: hidden;text-align: left;background-color: #f0f8ff;}#sk-container-id-2 div.sk-toggleable__content pre {margin: 0.2em;color: black;border-radius: 0.25em;background-color: #f0f8ff;}#sk-container-id-2 input.sk-toggleable__control:checked~div.sk-toggleable__content {max-height: 200px;max-width: 100%;overflow: auto;}#sk-container-id-2 input.sk-toggleable__control:checked~label.sk-toggleable__label-arrow:before {content: \"▾\";}#sk-container-id-2 div.sk-estimator input.sk-toggleable__control:checked~label.sk-toggleable__label {background-color: #d4ebff;}#sk-container-id-2 div.sk-label input.sk-toggleable__control:checked~label.sk-toggleable__label {background-color: #d4ebff;}#sk-container-id-2 input.sk-hidden--visually {border: 0;clip: rect(1px 1px 1px 1px);clip: rect(1px, 1px, 1px, 1px);height: 1px;margin: -1px;overflow: hidden;padding: 0;position: absolute;width: 1px;}#sk-container-id-2 div.sk-estimator {font-family: monospace;background-color: #f0f8ff;border: 1px dotted black;border-radius: 0.25em;box-sizing: border-box;margin-bottom: 0.5em;}#sk-container-id-2 div.sk-estimator:hover {background-color: #d4ebff;}#sk-container-id-2 div.sk-parallel-item::after {content: \"\";width: 100%;border-bottom: 1px solid gray;flex-grow: 1;}#sk-container-id-2 div.sk-label:hover label.sk-toggleable__label {background-color: #d4ebff;}#sk-container-id-2 div.sk-serial::before {content: \"\";position: absolute;border-left: 1px solid gray;box-sizing: border-box;top: 0;bottom: 0;left: 50%;z-index: 0;}#sk-container-id-2 div.sk-serial {display: flex;flex-direction: column;align-items: center;background-color: white;padding-right: 0.2em;padding-left: 0.2em;position: relative;}#sk-container-id-2 div.sk-item {position: relative;z-index: 1;}#sk-container-id-2 div.sk-parallel {display: flex;align-items: stretch;justify-content: center;background-color: white;position: relative;}#sk-container-id-2 div.sk-item::before, #sk-container-id-2 div.sk-parallel-item::before {content: \"\";position: absolute;border-left: 1px solid gray;box-sizing: border-box;top: 0;bottom: 0;left: 50%;z-index: -1;}#sk-container-id-2 div.sk-parallel-item {display: flex;flex-direction: column;z-index: 1;position: relative;background-color: white;}#sk-container-id-2 div.sk-parallel-item:first-child::after {align-self: flex-end;width: 50%;}#sk-container-id-2 div.sk-parallel-item:last-child::after {align-self: flex-start;width: 50%;}#sk-container-id-2 div.sk-parallel-item:only-child::after {width: 0;}#sk-container-id-2 div.sk-dashed-wrapped {border: 1px dashed gray;margin: 0 0.4em 0.5em 0.4em;box-sizing: border-box;padding-bottom: 0.4em;background-color: white;}#sk-container-id-2 div.sk-label label {font-family: monospace;font-weight: bold;display: inline-block;line-height: 1.2em;}#sk-container-id-2 div.sk-label-container {text-align: center;}#sk-container-id-2 div.sk-container {/* jupyter's `normalize.less` sets `[hidden] { display: none; }` but bootstrap.min.css set `[hidden] { display: none !important; }` so we also need the `!important` here to be able to override the default hidden behavior on the sphinx rendered scikit-learn.org. See: https://github.com/scikit-learn/scikit-learn/issues/21755 */display: inline-block !important;position: relative;}#sk-container-id-2 div.sk-text-repr-fallback {display: none;}</style><div id=\"sk-container-id-2\" class=\"sk-top-container\"><div class=\"sk-text-repr-fallback\"><pre>KNeighborsClassifier(n_jobs=-1, n_neighbors=4, weights=&#x27;distance&#x27;)</pre><b>In a Jupyter environment, please rerun this cell to show the HTML representation or trust the notebook. <br />On GitHub, the HTML representation is unable to render, please try loading this page with nbviewer.org.</b></div><div class=\"sk-container\" hidden><div class=\"sk-item\"><div class=\"sk-estimator sk-toggleable\"><input class=\"sk-toggleable__control sk-hidden--visually\" id=\"sk-estimator-id-2\" type=\"checkbox\" checked><label for=\"sk-estimator-id-2\" class=\"sk-toggleable__label sk-toggleable__label-arrow\">KNeighborsClassifier</label><div class=\"sk-toggleable__content\"><pre>KNeighborsClassifier(n_jobs=-1, n_neighbors=4, weights=&#x27;distance&#x27;)</pre></div></div></div></div></div>"
      ],
      "text/plain": [
       "KNeighborsClassifier(n_jobs=-1, n_neighbors=4, weights='distance')"
      ]
     },
     "execution_count": 56,
     "metadata": {},
     "output_type": "execute_result"
    }
   ],
   "source": [
    "knn_clf = KNeighborsClassifier(n_neighbors=4, weights=\"distance\", n_jobs=-1)\n",
    "knn_clf.fit(X_train_final, y_train)"
   ]
  },
  {
   "cell_type": "markdown",
   "id": "33f17490",
   "metadata": {
    "id": "33f17490"
   },
   "source": [
    "## 2. XGB"
   ]
  },
  {
   "cell_type": "markdown",
   "id": "6v5ieGi5X4bg",
   "metadata": {
    "id": "6v5ieGi5X4bg"
   },
   "source": [
    "# Optimization"
   ]
  },
  {
   "cell_type": "code",
   "execution_count": null,
   "id": "8kNfd-w_YXOp",
   "metadata": {
    "id": "8kNfd-w_YXOp"
   },
   "outputs": [],
   "source": [
    "param_grid = {\n",
    "    \"n_neighbors\": [4, 5, 6, 7, 8, 40, 400], \n",
    "    \"weights\": [\"uniform\", \"distance\"], \n",
    "}"
   ]
  },
  {
   "cell_type": "code",
   "execution_count": null,
   "id": "j0YUjhukX2uG",
   "metadata": {
    "id": "j0YUjhukX2uG"
   },
   "outputs": [],
   "source": [
    "cv = EvolutionaryAlgorithmSearchCV(estimator=KNeighborsClassifier(),\n",
    "                                   params=param_grid,\n",
    "                                   scoring=\"accuracy\",\n",
    "                                   cv=StratifiedKFold(n_splits=4),\n",
    "                                   verbose=1,\n",
    "                                   population_size=50,\n",
    "                                   gene_mutation_prob=0.10,\n",
    "                                   gene_crossover_prob=0.5,\n",
    "                                   tournament_size=3,\n",
    "                                   generations_number=5,\n",
    "                                   n_jobs=4)"
   ]
  },
  {
   "cell_type": "code",
   "execution_count": null,
   "id": "K3mPPcTkZSy2",
   "metadata": {
    "id": "K3mPPcTkZSy2"
   },
   "outputs": [],
   "source": [
    "#cv.fit(X_train_final, y_train)"
   ]
  },
  {
   "cell_type": "markdown",
   "id": "2d8941a7",
   "metadata": {
    "id": "2d8941a7"
   },
   "source": [
    "# Evaluation"
   ]
  },
  {
   "cell_type": "code",
   "execution_count": 57,
   "id": "2a3499f6",
   "metadata": {
    "id": "2a3499f6"
   },
   "outputs": [
    {
     "data": {
      "text/plain": [
       "array([0.93653333, 0.93741667, 0.93816667])"
      ]
     },
     "execution_count": 57,
     "metadata": {},
     "output_type": "execute_result"
    }
   ],
   "source": [
    "cross_val_score(knn_clf, X_train_final, y_train, cv=3, scoring=\"accuracy\")"
   ]
  },
  {
   "cell_type": "code",
   "execution_count": 58,
   "id": "2b1f652c",
   "metadata": {
    "id": "2b1f652c"
   },
   "outputs": [],
   "source": [
    "y_train_predict = cross_val_predict(knn_clf, X_train_final, y_train, cv=3)"
   ]
  },
  {
   "cell_type": "code",
   "execution_count": 59,
   "id": "sBljDhfHVloY",
   "metadata": {
    "id": "sBljDhfHVloY"
   },
   "outputs": [],
   "source": [
    "conf_mx = confusion_matrix(y_train, y_train_predict)"
   ]
  },
  {
   "cell_type": "code",
   "execution_count": 60,
   "id": "2g5dT1cCaMI8",
   "metadata": {
    "id": "2g5dT1cCaMI8"
   },
   "outputs": [
    {
     "data": {
      "text/plain": [
       "<matplotlib.image.AxesImage at 0x23071d16410>"
      ]
     },
     "execution_count": 60,
     "metadata": {},
     "output_type": "execute_result"
    },
    {
     "data": {
      "image/png": "[encoded data removed]",
      "text/plain": [
       "<Figure size 480x480 with 1 Axes>"
      ]
     },
     "metadata": {},
     "output_type": "display_data"
    }
   ],
   "source": [
    "plt.matshow(conf_mx, cmap=\"gray\")"
   ]
  },
  {
   "cell_type": "code",
   "execution_count": 61,
   "id": "-4zDWeOSam5J",
   "metadata": {
    "id": "-4zDWeOSam5J"
   },
   "outputs": [],
   "source": [
    "row_sums = conf_mx.sum(axis=1, keepdims=True)\n",
    "norm_conf_mx = conf_mx / row_sums"
   ]
  },
  {
   "cell_type": "code",
   "execution_count": 62,
   "id": "4R5pe-XpbP4n",
   "metadata": {
    "id": "4R5pe-XpbP4n"
   },
   "outputs": [
    {
     "data": {
      "text/plain": [
       "<matplotlib.image.AxesImage at 0x23071994ee0>"
      ]
     },
     "execution_count": 62,
     "metadata": {},
     "output_type": "execute_result"
    },
    {
     "data": {
      "image/png": "[encoded data removed]",
      "text/plain": [
       "<Figure size 480x480 with 1 Axes>"
      ]
     },
     "metadata": {},
     "output_type": "display_data"
    }
   ],
   "source": [
    "np.fill_diagonal(norm_conf_mx, 0)\n",
    "plt.matshow(norm_conf_mx, cmap=plt.cm.gray)"
   ]
  },
  {
   "cell_type": "code",
   "execution_count": 63,
   "id": "4buF8PJVtcTq",
   "metadata": {
    "id": "4buF8PJVtcTq"
   },
   "outputs": [
    {
     "ename": "NameError",
     "evalue": "name 'X_test_final' is not defined",
     "output_type": "error",
     "traceback": [
      "\u001b[1;31m---------------------------------------------------------------------------\u001b[0m",
      "\u001b[1;31mNameError\u001b[0m                                 Traceback (most recent call last)",
      "Cell \u001b[1;32mIn [63], line 1\u001b[0m\n\u001b[1;32m----> 1\u001b[0m knn_clf\u001b[38;5;241m.\u001b[39mscore(\u001b[43mX_test_final\u001b[49m, y_test)\n",
      "\u001b[1;31mNameError\u001b[0m: name 'X_test_final' is not defined"
     ]
    }
   ],
   "source": [
    "knn_clf.score(X_test_final, y_test)"
   ]
  },
  {
   "cell_type": "code",
   "execution_count": null,
   "id": "sTLc8dkY6Zfk",
   "metadata": {
    "id": "sTLc8dkY6Zfk"
   },
   "outputs": [],
   "source": [
    "y_predict = knn_clf.predict(X_test_final)"
   ]
  },
  {
   "cell_type": "code",
   "execution_count": null,
   "id": "3L8pfPGl9AjS",
   "metadata": {
    "id": "3L8pfPGl9AjS"
   },
   "outputs": [],
   "source": [
    "conf_mx = confusion_matrix(y_test, y_predict)\n",
    "plt.matshow(conf_mx, cmap=\"gray\")"
   ]
  },
  {
   "cell_type": "code",
   "execution_count": null,
   "id": "DDZECBPq6k3-",
   "metadata": {
    "id": "DDZECBPq6k3-"
   },
   "outputs": [],
   "source": [
    "row_sums = conf_mx.sum(axis=1, keepdims=True)\n",
    "norm_conf_mx = conf_mx / row_sums"
   ]
  },
  {
   "cell_type": "code",
   "execution_count": null,
   "id": "mJy7nvT76mWO",
   "metadata": {
    "id": "mJy7nvT76mWO"
   },
   "outputs": [],
   "source": [
    "np.fill_diagonal(norm_conf_mx, 0)\n",
    "plt.matshow(norm_conf_mx, cmap=plt.cm.gray)"
   ]
  }
 ],
 "metadata": {
  "colab": {
   "collapsed_sections": [
    "6v5ieGi5X4bg"
   ],
   "provenance": []
  },
  "kernelspec": {
   "display_name": "Python 3 (ipykernel)",
   "language": "python",
   "name": "python3"
  },
  "language_info": {
   "codemirror_mode": {
    "name": "ipython",
    "version": 3
   },
   "file_extension": ".py",
   "mimetype": "text/x-python",
   "name": "python",
   "nbconvert_exporter": "python",
   "pygments_lexer": "ipython3",
   "version": "3.10.2"
  }
 },
 "nbformat": 4,
 "nbformat_minor": 5
}
